{
 "cells": [
  {
   "cell_type": "code",
   "execution_count": 3,
   "metadata": {},
   "outputs": [
    {
     "name": "stdout",
     "output_type": "stream",
     "text": [
      "\n",
      "Guess the number between 1 to 30 : 16\n",
      "\n",
      "Your guess is above number\n",
      "\n",
      "Guess the number between 1 to 30 : 10\n",
      "\n",
      "Your guess is below number\n",
      "\n",
      "Guess the number between 1 to 30 : 12\n",
      "\n",
      "Your guess is below number\n",
      "\n",
      "You Lost\n",
      "\n",
      "The Correct Number is  15\n"
     ]
    }
   ],
   "source": [
    "import random\n",
    "\n",
    "random_number = random.randrange(1,30)\n",
    "\n",
    "flag = False\n",
    "\n",
    "for i in range(1,4):\n",
    "    guess = int(input(\"\\nGuess the number between 1 to 30 : \"))\n",
    "    if guess == random_number:\n",
    "        flag = True \n",
    "        break\n",
    "    elif guess < random_number:\n",
    "        print(\"\\nYour guess is below number\")\n",
    "    else:\n",
    "        print(\"\\nYour guess is above number\")\n",
    "        \n",
    "if flag:\n",
    "    print(\"\\nCongrat's!!\")\n",
    "else:\n",
    "    print(\"\\nYou Lost\")\n",
    "    print(\"\\nThe Correct Number is \", random_number)"
   ]
  },
  {
   "cell_type": "code",
   "execution_count": null,
   "metadata": {},
   "outputs": [],
   "source": []
  }
 ],
 "metadata": {
  "kernelspec": {
   "display_name": "Python 3",
   "language": "python",
   "name": "python3"
  },
  "language_info": {
   "codemirror_mode": {
    "name": "ipython",
    "version": 3
   },
   "file_extension": ".py",
   "mimetype": "text/x-python",
   "name": "python",
   "nbconvert_exporter": "python",
   "pygments_lexer": "ipython3",
   "version": "3.7.4"
  }
 },
 "nbformat": 4,
 "nbformat_minor": 2
}
