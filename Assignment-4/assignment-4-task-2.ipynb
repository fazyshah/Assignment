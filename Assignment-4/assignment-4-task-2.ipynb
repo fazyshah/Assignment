{
 "cells": [
  {
   "cell_type": "code",
   "execution_count": 15,
   "metadata": {},
   "outputs": [
    {
     "name": "stdout",
     "output_type": "stream",
     "text": [
      "Welcome To Atrium Theater\n",
      "Enter Number of Persons : 2\n",
      "What Is The Age Of Persons: 2\n",
      "Ticket is Free! Enjoy in Atrium\n",
      "What Is The Age Of Persons: 5\n",
      "Ticket Costs 10$\n",
      "Total Cost is =  10  $ Enjoy in Atrium\n"
     ]
    }
   ],
   "source": [
    "print(\"Welcome To Atrium Theater\")\n",
    "persons = int(input(\"Enter Number of Persons : \"))\n",
    "\n",
    "price = 0\n",
    "\n",
    "for i in range(1,persons+1):\n",
    "    age = int(input(\"What Is The Age Of Persons: \"))\n",
    "    if age <= 3:\n",
    "        print(\"Ticket is Free! Enjoy in Atrium\")\n",
    "    elif age <= 12:\n",
    "        print(\"Ticket Costs 10$\")\n",
    "        price +=10\n",
    "    else:\n",
    "        print(\"Ticket Costs 15$\")\n",
    "        price +=15\n",
    "\n",
    "print(\"Total Cost is = \",price,\" $ Enjoy in Atrium\")"
   ]
  },
  {
   "cell_type": "code",
   "execution_count": null,
   "metadata": {},
   "outputs": [],
   "source": []
  },
  {
   "cell_type": "code",
   "execution_count": null,
   "metadata": {},
   "outputs": [],
   "source": []
  }
 ],
 "metadata": {
  "kernelspec": {
   "display_name": "Python 3",
   "language": "python",
   "name": "python3"
  },
  "language_info": {
   "codemirror_mode": {
    "name": "ipython",
    "version": 3
   },
   "file_extension": ".py",
   "mimetype": "text/x-python",
   "name": "python",
   "nbconvert_exporter": "python",
   "pygments_lexer": "ipython3",
   "version": "3.7.4"
  }
 },
 "nbformat": 4,
 "nbformat_minor": 2
}
