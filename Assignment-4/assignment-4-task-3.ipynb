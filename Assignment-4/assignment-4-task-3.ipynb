{
 "cells": [
  {
   "cell_type": "code",
   "execution_count": 1,
   "metadata": {},
   "outputs": [
    {
     "name": "stdout",
     "output_type": "stream",
     "text": [
      "Welcome To Atrium Theater\n",
      "***************************\n",
      "\n",
      "Enter Number of Persons : 2\n",
      "\n",
      "What Is The Age Of Persons: 5\n",
      "\n",
      "Ticket Costs 10$\n",
      "\n",
      "What Is The Age Of Persons: 4\n",
      "\n",
      "Ticket Costs 10$\n",
      "Total Cost is =  20  $ Enjoy in Atrium\n"
     ]
    }
   ],
   "source": [
    "print(\"Welcome To Atrium Theater\")\n",
    "print(\"***************************\")\n",
    "persons = int(input(\"\\nEnter Number of Persons : \"))\n",
    "\n",
    "price = 0\n",
    "\n",
    "for i in range(1,persons+1):\n",
    "    age = int(input(\"\\nWhat Is The Age Of Persons: \"))\n",
    "    if age <= 3:\n",
    "        print(\"\\nTicket is Free! Enjoy in Atrium\")\n",
    "    elif age <= 12:\n",
    "        print(\"\\nTicket Costs 10$\")\n",
    "        price +=10\n",
    "    else:\n",
    "        print(\"\\nTicket Costs 15$\")\n",
    "        price +=15\n",
    "\n",
    "print(\"Total Cost is = \",price,\" $ Enjoy in Atrium\")"
   ]
  },
  {
   "cell_type": "code",
   "execution_count": null,
   "metadata": {},
   "outputs": [],
   "source": []
  }
 ],
 "metadata": {
  "kernelspec": {
   "display_name": "Python 3",
   "language": "python",
   "name": "python3"
  },
  "language_info": {
   "codemirror_mode": {
    "name": "ipython",
    "version": 3
   },
   "file_extension": ".py",
   "mimetype": "text/x-python",
   "name": "python",
   "nbconvert_exporter": "python",
   "pygments_lexer": "ipython3",
   "version": "3.7.4"
  }
 },
 "nbformat": 4,
 "nbformat_minor": 2
}
