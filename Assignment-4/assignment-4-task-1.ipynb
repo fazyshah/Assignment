{
 "cells": [
  {
   "cell_type": "code",
   "execution_count": 14,
   "metadata": {},
   "outputs": [
    {
     "name": "stdout",
     "output_type": "stream",
     "text": [
      "********************************************************************************************************************\n",
      "Name of city is  Sydney\n",
      "Country Name is :  Australia\n",
      "Population is :   5.2 million \n",
      "Facts of the city :  Sydney is no small fry; this sprawling city measures a whopping 1,580 square kilometres across.\n",
      "********************************************************************************************************************\n",
      "********************************************************************************************************************\n",
      "Name of city is  Karachi\n",
      "Country Name is :  Pakistan\n",
      "Population is :  14 million \n",
      "Facts of the city :  Karachi is 7th most populous city in the world, capital of sindh and biggest city of Pakistan\n",
      "********************************************************************************************************************\n",
      "********************************************************************************************************************\n",
      "Name of city is  New York\n",
      "Country Name is :  USA\n",
      "Population is :  8.6 million \n",
      "Facts of the city :  New York, USA's became the first capital of the United States in 1789, then Washinton DC\n",
      "********************************************************************************************************************\n"
     ]
    }
   ],
   "source": [
    "city ={\n",
    "    \"Sydney\" : {\n",
    "        \"country\": \"Australia\",\n",
    "        \"Population\":\" 5.2 million \",\n",
    "        \"fact\":\"Sydney is no small fry; this sprawling city measures a whopping 1,580 square kilometres across.\"\n",
    "    },\n",
    "    \"Karachi\" : {\n",
    "        \"country\": \"Pakistan\",\n",
    "        \"Population\":\"14 million \",\n",
    "        \"fact\":\"Karachi is 7th most populous city in the world, capital of sindh and biggest city of Pakistan\"\n",
    "    },\n",
    "    \"New York\" : {\n",
    "        \"country\": \"USA\",\n",
    "        \"Population\":\"8.6 million \",\n",
    "        \"fact\":\"New York, USA's became the first capital of the United States in 1789, then Washinton DC\"\n",
    "    }\n",
    "}\n",
    "    \n",
    "for i in city.keys():\n",
    "    print(\"********************************************************************************************************************\")\n",
    "    print(\"Name of city is \", i)\n",
    "    print(\"Country Name is : \" , city[i][\"country\"])\n",
    "    print(\"Population is : \" , city[i][\"Population\"])\n",
    "    print(\"Facts of the city : \" , city[i][\"fact\"])\n",
    "    print(\"********************************************************************************************************************\")"
   ]
  },
  {
   "cell_type": "code",
   "execution_count": null,
   "metadata": {},
   "outputs": [],
   "source": []
  }
 ],
 "metadata": {
  "kernelspec": {
   "display_name": "Python 3",
   "language": "python",
   "name": "python3"
  },
  "language_info": {
   "codemirror_mode": {
    "name": "ipython",
    "version": 3
   },
   "file_extension": ".py",
   "mimetype": "text/x-python",
   "name": "python",
   "nbconvert_exporter": "python",
   "pygments_lexer": "ipython3",
   "version": "3.7.4"
  }
 },
 "nbformat": 4,
 "nbformat_minor": 2
}
