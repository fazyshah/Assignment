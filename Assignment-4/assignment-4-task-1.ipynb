{
 "cells": [
  {
   "cell_type": "code",
   "execution_count": 6,
   "metadata": {},
   "outputs": [
    {
     "name": "stdout",
     "output_type": "stream",
     "text": [
      "First Name: Faizan\n",
      "Last Name: Nabi\n",
      "Age: 23\n",
      "City: Karachi\n",
      "Qualification: Intermediate\n",
      "*************************************************************\n",
      "After update Qualification  Bscs\n",
      "*************************************************************\n",
      "{'first_name': 'First Name: Faizan', 'last_name,': 'Last Name: Nabi', 'age': 'Age: 23', 'city': 'City: Karachi'}\n"
     ]
    }
   ],
   "source": [
    "obj = {\n",
    "    \"first_name\" : \"First Name: Faizan\",\n",
    "    \"last_name,\" : \"Last Name: Nabi\",\n",
    "    \"age\":\"Age: 23\",\n",
    "    \"city\" : \"City: Karachi\"\n",
    "}\n",
    "\n",
    "for i in obj.values():\n",
    "    print(i)\n",
    "\n",
    "obj.update({\"Qualification\":\"Qualification: Intermediate\"})\n",
    "\n",
    "print(obj[\"Qualification\"])\n",
    "\n",
    "obj[\"Qualification\"] = \"Bscs\"\n",
    "print(\"*************************************************************\")\n",
    "print(\"After update Qualification \",obj[\"Qualification\"])\n",
    "print(\"*************************************************************\")\n",
    "del obj[\"Qualification\"]\n",
    "\n",
    "print(obj)"
   ]
  },
  {
   "cell_type": "code",
   "execution_count": null,
   "metadata": {},
   "outputs": [],
   "source": []
  }
 ],
 "metadata": {
  "kernelspec": {
   "display_name": "Python 3",
   "language": "python",
   "name": "python3"
  },
  "language_info": {
   "codemirror_mode": {
    "name": "ipython",
    "version": 3
   },
   "file_extension": ".py",
   "mimetype": "text/x-python",
   "name": "python",
   "nbconvert_exporter": "python",
   "pygments_lexer": "ipython3",
   "version": "3.7.4"
  }
 },
 "nbformat": 4,
 "nbformat_minor": 2
}
