{
 "cells": [
  {
   "cell_type": "code",
   "execution_count": 1,
   "metadata": {},
   "outputs": [
    {
     "name": "stdout",
     "output_type": "stream",
     "text": [
      "Enter your Computer marks 80\n",
      "Enter your Physics marks 90\n",
      "Enter your Math marks 50\n",
      "Enter your Programming marks 70\n",
      "Enter your Database marks 60\n",
      "\n",
      "Total Obtained Marks:  350\n",
      "\n",
      "Percentage of all Subjects:  70.0\n",
      "\n",
      "Your Grade is A\n"
     ]
    }
   ],
   "source": [
    "Computer = int(input(\"Enter your Computer marks \"));\n",
    "Physics = int(input(\"Enter your Physics marks \"));\n",
    "Math = int(input(\"Enter your Math marks \"));\n",
    "Programming = int(input(\"Enter your Programming marks \"));\n",
    "Database = int(input(\"Enter your Database marks \"));\n",
    "Total_obtained = (Computer + Physics + Math + Programming + Database);\n",
    "print(\"\\nTotal Obtained Marks: \",Total_obtained);\n",
    "Percentage = (Total_obtained * 100) / 500\n",
    "print(\"\\nPercentage of all Subjects: \",Percentage);\n",
    "if Percentage > 0 and Percentage < 100:\n",
    "    if Percentage >= 80 and Percentage <= 100:\n",
    "        print(\"\\nYour Grade is A+\")\n",
    "    elif Percentage >= 70 and Percentage <= 80:\n",
    "        print(\"\\nYour Grade is A\")\n",
    "    elif Percentage >= 60 and Percentage <= 70:\n",
    "        print(\"\\nYour Grade is B\")\n",
    "    elif Percentage >= 50 and Percentage <= 60:\n",
    "        print(\"\\nYour Grade is C\")\n",
    "    elif Percentage >= 40 and Percentage <= 50:\n",
    "        print(\"\\nYour Grade is D\")\n",
    "    elif Percentage >33 and Percentage <= 40:\n",
    "        print(\"\\nYour Grade is E\")\n",
    "    elif Percentage <= 33  and Percentage > 0:\n",
    "        print(\"\\nSorry Your Failed Grade is F \")\n",
    "else:\n",
    " print(\"\\nIncorrect Numbers\")"
   ]
  },
  {
   "cell_type": "code",
   "execution_count": null,
   "metadata": {},
   "outputs": [],
   "source": []
  }
 ],
 "metadata": {
  "kernelspec": {
   "display_name": "Python 3",
   "language": "python",
   "name": "python3"
  },
  "language_info": {
   "codemirror_mode": {
    "name": "ipython",
    "version": 3
   },
   "file_extension": ".py",
   "mimetype": "text/x-python",
   "name": "python",
   "nbconvert_exporter": "python",
   "pygments_lexer": "ipython3",
   "version": "3.7.4"
  }
 },
 "nbformat": 4,
 "nbformat_minor": 2
}
