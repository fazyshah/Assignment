{
 "cells": [
  {
   "cell_type": "code",
   "execution_count": 2,
   "metadata": {},
   "outputs": [
    {
     "name": "stdout",
     "output_type": "stream",
     "text": [
      "Enter a string value with lower and uppercase letters :FaiZan Nabi\n",
      "Original String :  FaiZan Nabi\n",
      "No. of Upper case characters :  3\n",
      "No. of Lower case Characters :  7\n",
      "None\n"
     ]
    }
   ],
   "source": [
    "def string_test(s):\n",
    "    value={\"UPPER_CASE\":0, \"LOWER_CASE\":0}\n",
    "     \n",
    "    for c in s:\n",
    "        if c.isupper():\n",
    "           value[\"UPPER_CASE\"]+=1\n",
    "        elif c.islower():\n",
    "           value[\"LOWER_CASE\"]+=1\n",
    "        else:\n",
    "           pass\n",
    "    print (\"Original String : \", s)\n",
    "    print (\"No. of Upper case characters : \", value[\"UPPER_CASE\"])\n",
    "    print (\"No. of Lower case Characters : \", value[\"LOWER_CASE\"])\n",
    "\n",
    "print(string_test(s = input('Enter a string value with lower and uppercase letters :')))"
   ]
  },
  {
   "cell_type": "code",
   "execution_count": null,
   "metadata": {},
   "outputs": [],
   "source": []
  }
 ],
 "metadata": {
  "kernelspec": {
   "display_name": "Python 3",
   "language": "python",
   "name": "python3"
  },
  "language_info": {
   "codemirror_mode": {
    "name": "ipython",
    "version": 3
   },
   "file_extension": ".py",
   "mimetype": "text/x-python",
   "name": "python",
   "nbconvert_exporter": "python",
   "pygments_lexer": "ipython3",
   "version": "3.7.4"
  }
 },
 "nbformat": 4,
 "nbformat_minor": 2
}
