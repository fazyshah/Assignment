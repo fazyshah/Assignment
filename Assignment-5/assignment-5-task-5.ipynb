{
 "cells": [
  {
   "cell_type": "code",
   "execution_count": 4,
   "metadata": {},
   "outputs": [
    {
     "name": "stdout",
     "output_type": "stream",
     "text": [
      "Please Enter a Number: 99\n",
      "99 It's Not a Prime Number\n",
      "3 times 1 is 3\n"
     ]
    }
   ],
   "source": [
    "number = int(input(\"Please Enter a Number: \"))  \n",
    "  \n",
    "if number > 1:  \n",
    "   for x in range(2,number):  \n",
    "       if (number % x) == 0:  \n",
    "           print(number,\"It's Not a Prime Number\")  \n",
    "           print(i,\"times\",num//x,\"is\",num)  \n",
    "           break  \n",
    "   else:  \n",
    "       print(number,\"It's a Prime Number\")  \n",
    "         \n",
    "else:  \n",
    "   print(number,\"It's Not a Prime Number\")"
   ]
  },
  {
   "cell_type": "code",
   "execution_count": null,
   "metadata": {},
   "outputs": [],
   "source": []
  },
  {
   "cell_type": "code",
   "execution_count": null,
   "metadata": {},
   "outputs": [],
   "source": []
  }
 ],
 "metadata": {
  "kernelspec": {
   "display_name": "Python 3",
   "language": "python",
   "name": "python3"
  },
  "language_info": {
   "codemirror_mode": {
    "name": "ipython",
    "version": 3
   },
   "file_extension": ".py",
   "mimetype": "text/x-python",
   "name": "python",
   "nbconvert_exporter": "python",
   "pygments_lexer": "ipython3",
   "version": "3.7.4"
  }
 },
 "nbformat": 4,
 "nbformat_minor": 2
}
