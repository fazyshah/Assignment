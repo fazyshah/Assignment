{
 "cells": [
  {
   "cell_type": "code",
   "execution_count": 4,
   "metadata": {},
   "outputs": [
    {
     "name": "stdout",
     "output_type": "stream",
     "text": [
      "OOP stands for Object oriented programming. The purpose of OOP is to reuse the code instead of code repeatedly.  \n",
      "Abstraction, Encapsulation ,Inheritance and Polymorphism are main pillars of OOP \n"
     ]
    }
   ],
   "source": [
    "print('''OOP stands for Object oriented programming. The purpose of OOP is to reuse the code instead of code repeatedly.  \n",
    "Abstraction, Encapsulation ,Inheritance and Polymorphism are main pillars of OOP ''')"
   ]
  },
  {
   "cell_type": "code",
   "execution_count": null,
   "metadata": {},
   "outputs": [],
   "source": []
  }
 ],
 "metadata": {
  "kernelspec": {
   "display_name": "Python 3",
   "language": "python",
   "name": "python3"
  },
  "language_info": {
   "codemirror_mode": {
    "name": "ipython",
    "version": 3
   },
   "file_extension": ".py",
   "mimetype": "text/x-python",
   "name": "python",
   "nbconvert_exporter": "python",
   "pygments_lexer": "ipython3",
   "version": "3.7.4"
  }
 },
 "nbformat": 4,
 "nbformat_minor": 2
}
