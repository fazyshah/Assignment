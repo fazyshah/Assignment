{
 "cells": [
  {
   "cell_type": "code",
   "execution_count": 14,
   "metadata": {},
   "outputs": [
    {
     "name": "stdout",
     "output_type": "stream",
     "text": [
      "Your Car Name is :  ZR6\n",
      "Mercedes Benz\n",
      "Mercedes Benz\n"
     ]
    }
   ],
   "source": [
    "class Car:\n",
    "    def __init__(self,model,color,name,company,reg):\n",
    "        self.model=model\n",
    "        self.color=color\n",
    "        self.name=name\n",
    "        self.company=company\n",
    "        self.reg=reg\n",
    "        \n",
    "    def print_name(self):\n",
    "        print(\"Your Car Name is : \",self.name)\n",
    "            \n",
    "    def print_UPdatecompany(self):\n",
    "        self.reg=\"Mercedes Benz\"\n",
    "        print(self.reg)\n",
    "            \n",
    "    def print_reg(self):\n",
    "        print(self.reg)\n",
    "        \n",
    "car1=Car('2019','Black','ZR6','Mercedes Benz','axy-323')\n",
    "car2=Car('2018','white','VIGO','Toyota','Leb-22')\n",
    "car3=Car('2017','Red','land Cruiser','Toyota','Ah-12')\n",
    "car4=Car('2016','Blue','Civic','Honda','Le-32')\n",
    "car5=Car('2015','mate Black','City','Honda','Ax-212')\n",
    "car1.print_name()\n",
    "car3.print_UPdatecompany()\n",
    "car3.print_reg()"
   ]
  },
  {
   "cell_type": "code",
   "execution_count": null,
   "metadata": {},
   "outputs": [],
   "source": []
  }
 ],
 "metadata": {
  "kernelspec": {
   "display_name": "Python 3",
   "language": "python",
   "name": "python3"
  },
  "language_info": {
   "codemirror_mode": {
    "name": "ipython",
    "version": 3
   },
   "file_extension": ".py",
   "mimetype": "text/x-python",
   "name": "python",
   "nbconvert_exporter": "python",
   "pygments_lexer": "ipython3",
   "version": "3.7.4"
  }
 },
 "nbformat": 4,
 "nbformat_minor": 2
}
