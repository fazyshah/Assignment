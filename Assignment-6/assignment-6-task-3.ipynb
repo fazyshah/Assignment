{
 "cells": [
  {
   "cell_type": "code",
   "execution_count": 11,
   "metadata": {},
   "outputs": [
    {
     "name": "stdout",
     "output_type": "stream",
     "text": [
      "What is Funtion\n",
      "===============\n",
      "    If we want to perform a task again and again we write that task in a function and call it when we need it.\n",
      "    we can pass arguments when calling a funtion if it takes parameters .\n",
      "    in function you have to pass class attributes as parameters else you can use them in function. \n",
      "\n",
      "===============\n",
      "What is Method\n",
      "===============\n",
      "Methods are similar as functions, we can distinguish methods & functions :\n",
      "    1) Methods take \"self\" as first parameter , then you know that its a method.\n",
      "    2) Self in methods takes all the attributes which are defined in class and u can use the attributes \n",
      "    in method using self keyword.\n",
      "    3) Methods are written in the scope of class.\n",
      "    \n"
     ]
    }
   ],
   "source": [
    "print('What is Funtion')\n",
    "print('''===============\n",
    "    If we want to perform a task again and again we write that task in a function and call it when we need it.\n",
    "    we can pass arguments when calling a funtion if it takes parameters .\n",
    "    in function you have to pass class attributes as parameters else you can use them in function. \n",
    "\n",
    "===============''')\n",
    "print('What is Method')\n",
    "print('''===============\n",
    "Methods are similar as functions, we can distinguish methods & functions :\n",
    "    1) Methods take \"self\" as first parameter , then you know that its a method.\n",
    "    2) Self in methods takes all the attributes which are defined in class and u can use the attributes \n",
    "    in method using self keyword.\n",
    "    3) Methods are written in the scope of class.\n",
    "    ''')"
   ]
  },
  {
   "cell_type": "code",
   "execution_count": null,
   "metadata": {},
   "outputs": [],
   "source": []
  }
 ],
 "metadata": {
  "kernelspec": {
   "display_name": "Python 3",
   "language": "python",
   "name": "python3"
  },
  "language_info": {
   "codemirror_mode": {
    "name": "ipython",
    "version": 3
   },
   "file_extension": ".py",
   "mimetype": "text/x-python",
   "name": "python",
   "nbconvert_exporter": "python",
   "pygments_lexer": "ipython3",
   "version": "3.7.4"
  }
 },
 "nbformat": 4,
 "nbformat_minor": 2
}
