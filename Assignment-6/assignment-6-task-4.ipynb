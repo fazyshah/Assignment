{
 "cells": [
  {
   "cell_type": "code",
   "execution_count": 1,
   "metadata": {},
   "outputs": [
    {
     "name": "stdout",
     "output_type": "stream",
     "text": [
      "\n",
      "1. Class\n",
      "2. Object\n",
      "3. Attribute\n",
      "4. Behavior\n",
      "\n",
      "\n",
      "    \n",
      "    \n",
      "    OOPS me class ek blueprint ka kaam karti it's like defining data structure using \n",
      "    attributes which are basically variables. we define methods and functions in class\n",
      "    kuch behaviours k liye Example:\n",
      "                    #class its like a box which have many things inside it, which are  attributes methods functons etc ...\n",
      "                     class Soccerplayer:\n",
      "                     #object , class is a blueprint of this object , in this object we have all those things which i defined in class lines \n",
      "                         def __init__(self,playername,number,position)\n",
      "                         \n",
      "                         #attribute are variables , means address to memory loction of the value which these variables have\n",
      "                        self.name = playername\n",
      "                        self.number = number\n",
      "                        self.position = position\n",
      "                        \n",
      "                        \n",
      "                        #method For defining players who are better in dribbling then most players \n",
      "                        #methods can only be defined in the class scope ,its perform a task when we call it.\n",
      "                        # this method will print the player name which will be passed as argument when calling this method ,\n",
      "                        #printing is this methods behavior\n",
      "                        def specialists(self):\n",
      "                        print(self.name, \" is better in dribbble then other soccerPlayers\")\n",
      "                        \n",
      "                        #function is different then methods you can define funtion in and out of the class\n",
      "                        def run(name):\n",
      "                        print(name,\"runs fast\")\n",
      "                        \n",
      "                        \n",
      "                         \n"
     ]
    }
   ],
   "source": [
    "print('''\n",
    "1. Class\n",
    "2. Object\n",
    "3. Attribute\n",
    "4. Behavior\n",
    "\n",
    "\n",
    "    \n",
    "    \n",
    "    OOPS me class ek blueprint ka kaam karti it's like defining data structure using \n",
    "    attributes which are basically variables. we define methods and functions in class\n",
    "    kuch behaviours k liye Example:\n",
    "                    #class its like a box which have many things inside it, which are  attributes methods functons etc ...\n",
    "                     class Soccerplayer:\n",
    "                     #object , class is a blueprint of this object , in this object we have all those things which i defined in class lines \n",
    "                         def __init__(self,playername,number,position)\n",
    "                         \n",
    "                         #attribute are variables , means address to memory loction of the value which these variables have\n",
    "                        self.name = playername\n",
    "                        self.number = number\n",
    "                        self.position = position\n",
    "                        \n",
    "                        \n",
    "                        #method For defining players who are better in dribbling then most players \n",
    "                        #methods can only be defined in the class scope ,its perform a task when we call it.\n",
    "                        # this method will print the player name which will be passed as argument when calling this method ,\n",
    "                        #printing is this methods behavior\n",
    "                        def specialists(self):\n",
    "                        print(self.name, \" is better in dribbble then other soccerPlayers\")\n",
    "                        \n",
    "                        #function is different then methods you can define funtion in and out of the class\n",
    "                        def run(name):\n",
    "                        print(name,\"runs fast\")\n",
    "                        \n",
    "                        \n",
    "                         ''')"
   ]
  },
  {
   "cell_type": "code",
   "execution_count": null,
   "metadata": {},
   "outputs": [],
   "source": []
  }
 ],
 "metadata": {
  "kernelspec": {
   "display_name": "Python 3",
   "language": "python",
   "name": "python3"
  },
  "language_info": {
   "codemirror_mode": {
    "name": "ipython",
    "version": 3
   },
   "file_extension": ".py",
   "mimetype": "text/x-python",
   "name": "python",
   "nbconvert_exporter": "python",
   "pygments_lexer": "ipython3",
   "version": "3.7.4"
  }
 },
 "nbformat": 4,
 "nbformat_minor": 2
}
