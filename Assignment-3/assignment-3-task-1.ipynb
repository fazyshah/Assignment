{
 "cells": [
  {
   "cell_type": "code",
   "execution_count": 13,
   "metadata": {},
   "outputs": [
    {
     "name": "stdout",
     "output_type": "stream",
     "text": [
      "Enter 1st Number = 2\n",
      "Enter 2nd Number = 3\n",
      "Enter Operator: **\n",
      "\n",
      "Power is = 8\n"
     ]
    }
   ],
   "source": [
    "num1 = int(input(\"Enter 1st Number = \"))\n",
    "num2 = int(input(\"Enter 2nd Number = \"))\n",
    "op = input(\"Enter Operator: \")\n",
    "\n",
    "if op == '+':\n",
    "    num = num1 + num2\n",
    "    print(\"\\nSum is =\",num)\n",
    "elif op == '-':\n",
    "    num = num1 - num2\n",
    "    print(\"\\nSubtraction is =\",num)\n",
    "elif op == '*':\n",
    "    num = num1 * num2\n",
    "    print(\"\\nMultiplication is =\",num)\n",
    "elif op == '/':\n",
    "    num = num1 / num2\n",
    "    print(\"\\nDivision is =\",num)\n",
    "elif op == '**':\n",
    "    num = num1 ** num2\n",
    "    print(\"\\nPower is =\",num)\n",
    "else :\n",
    "    print(\"\\nInvalid Input\")"
   ]
  },
  {
   "cell_type": "code",
   "execution_count": null,
   "metadata": {},
   "outputs": [],
   "source": []
  },
  {
   "cell_type": "code",
   "execution_count": null,
   "metadata": {},
   "outputs": [],
   "source": []
  }
 ],
 "metadata": {
  "kernelspec": {
   "display_name": "Python 3",
   "language": "python",
   "name": "python3"
  },
  "language_info": {
   "codemirror_mode": {
    "name": "ipython",
    "version": 3
   },
   "file_extension": ".py",
   "mimetype": "text/x-python",
   "name": "python",
   "nbconvert_exporter": "python",
   "pygments_lexer": "ipython3",
   "version": "3.7.4"
  }
 },
 "nbformat": 4,
 "nbformat_minor": 2
}
