{
 "cells": [
  {
   "cell_type": "code",
   "execution_count": 35,
   "metadata": {},
   "outputs": [
    {
     "name": "stdout",
     "output_type": "stream",
     "text": [
      "Duplicates Are  1\n",
      "Duplicates Are  2\n",
      "Duplicates Are  4\n"
     ]
    }
   ],
   "source": [
    "a = [1, 2, 3, 5, 8, 4, 67, 90,1,2,4]\n",
    "for x in range(0,len(a)):\n",
    "    for y in range(x+1, len(a)):\n",
    "        if (a[x]) == a[y]:\n",
    "            print(\"Duplicates Are \",a[y])"
   ]
  },
  {
   "cell_type": "code",
   "execution_count": null,
   "metadata": {},
   "outputs": [],
   "source": []
  }
 ],
 "metadata": {
  "kernelspec": {
   "display_name": "Python 3",
   "language": "python",
   "name": "python3"
  },
  "language_info": {
   "codemirror_mode": {
    "name": "ipython",
    "version": 3
   },
   "file_extension": ".py",
   "mimetype": "text/x-python",
   "name": "python",
   "nbconvert_exporter": "python",
   "pygments_lexer": "ipython3",
   "version": "3.7.4"
  }
 },
 "nbformat": 4,
 "nbformat_minor": 2
}
