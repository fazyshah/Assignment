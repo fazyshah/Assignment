{
 "cells": [
  {
   "cell_type": "code",
   "execution_count": 7,
   "metadata": {},
   "outputs": [
    {
     "name": "stdout",
     "output_type": "stream",
     "text": [
      "Key Exist's\n"
     ]
    }
   ],
   "source": [
    "a = {\n",
    "    \"fname\":\"Faizan\",\n",
    "    \"lname\":\"Nabi\",\n",
    "    \"address\":\"Gulshan\",\n",
    "    \"fname\":\"fazy\"\n",
    "} \n",
    "if \"fname\" in a.keys():\n",
    "    print (\"Key Exist's\")\n",
    "else:\n",
    "    print (\"Key Doesn't Exist \")"
   ]
  },
  {
   "cell_type": "code",
   "execution_count": null,
   "metadata": {},
   "outputs": [],
   "source": []
  }
 ],
 "metadata": {
  "kernelspec": {
   "display_name": "Python 3",
   "language": "python",
   "name": "python3"
  },
  "language_info": {
   "codemirror_mode": {
    "name": "ipython",
    "version": 3
   },
   "file_extension": ".py",
   "mimetype": "text/x-python",
   "name": "python",
   "nbconvert_exporter": "python",
   "pygments_lexer": "ipython3",
   "version": "3.7.4"
  }
 },
 "nbformat": 4,
 "nbformat_minor": 2
}
