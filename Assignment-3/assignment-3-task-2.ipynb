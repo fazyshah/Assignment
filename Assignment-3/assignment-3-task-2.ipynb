{
 "cells": [
  {
   "cell_type": "code",
   "execution_count": 47,
   "metadata": {},
   "outputs": [
    {
     "name": "stdout",
     "output_type": "stream",
     "text": [
      "List Has Numeric Values\n",
      "List Has Numeric Values\n",
      "List Has Numeric Values\n",
      "List Has Numeric Values\n",
      "List Has Not A Numeric Values\n",
      "List Has Numeric Values\n"
     ]
    }
   ],
   "source": [
    "n = [1, 2, 3, 4, 'str' ,5]\n",
    "for num in n :\n",
    "    if type(num) == int:\n",
    "        print(\"List Has Numeric Values\")\n",
    "    else:\n",
    "        print(\"List Has Not A Numeric Values\")"
   ]
  },
  {
   "cell_type": "code",
   "execution_count": null,
   "metadata": {},
   "outputs": [],
   "source": []
  },
  {
   "cell_type": "code",
   "execution_count": null,
   "metadata": {},
   "outputs": [],
   "source": []
  },
  {
   "cell_type": "code",
   "execution_count": null,
   "metadata": {},
   "outputs": [],
   "source": []
  }
 ],
 "metadata": {
  "kernelspec": {
   "display_name": "Python 3",
   "language": "python",
   "name": "python3"
  },
  "language_info": {
   "codemirror_mode": {
    "name": "ipython",
    "version": 3
   },
   "file_extension": ".py",
   "mimetype": "text/x-python",
   "name": "python",
   "nbconvert_exporter": "python",
   "pygments_lexer": "ipython3",
   "version": "3.7.4"
  }
 },
 "nbformat": 4,
 "nbformat_minor": 2
}
